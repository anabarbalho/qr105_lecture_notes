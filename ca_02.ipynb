{
  "cells": [
    {
      "cell_type": "markdown",
      "metadata": {
        "id": "view-in-github",
        "colab_type": "text"
      },
      "source": [
        "<a href=\"https://colab.research.google.com/github/anabarbalho/qr105_lecture_notes/blob/main/ca_02.ipynb\" target=\"_parent\"><img src=\"https://colab.research.google.com/assets/colab-badge.svg\" alt=\"Open In Colab\"/></a>"
      ]
    },
    {
      "cell_type": "markdown",
      "id": "b34fb6b9-122d-4b73-aee5-5f550fb0f3ed",
      "metadata": {
        "id": "b34fb6b9-122d-4b73-aee5-5f550fb0f3ed"
      },
      "source": [
        "# Coding Activity 2\n",
        "\n",
        "For this activity you'll explore"
      ]
    },
    {
      "cell_type": "markdown",
      "id": "6fabc737-a2d6-4e13-affe-0a8597638929",
      "metadata": {
        "jp-MarkdownHeadingCollapsed": true,
        "id": "6fabc737-a2d6-4e13-affe-0a8597638929"
      },
      "source": [
        "## How coding assignments work"
      ]
    },
    {
      "cell_type": "markdown",
      "id": "0af37cc4-f74b-45dc-81b3-1409bf26021f",
      "metadata": {
        "id": "0af37cc4-f74b-45dc-81b3-1409bf26021f"
      },
      "source": [
        "### How to complete the assignment\n",
        "For each question, add your code to the code block below each question.\n",
        "\n",
        "### Assignment submission\n",
        "You need to save this notebook to the GitHub repository created for your assignment. Then copy the repo link and submit it to the assignment in Moodle.\n",
        "\n",
        "### Assessment\n",
        "\n",
        "Coding activities are designed to get you practising in code while in class. They're generally graded for completion - code either runs or it doesn't.\n",
        "\n",
        "However, if you can't get something to work, honest attempts will recieve credit. So if you run into issues, add a markdown cell or add comments to your code so I can see what you tried and how you attempted to resolve the issue."
      ]
    },
    {
      "cell_type": "markdown",
      "id": "3521e059-8194-4b2b-aa35-ce58eb8ad348",
      "metadata": {
        "id": "3521e059-8194-4b2b-aa35-ce58eb8ad348"
      },
      "source": [
        "## 1. Check if a value is in a list\n",
        "\n",
        "Write a program to check if a shopping list contains \"milk\" or \"bread. or both. Your shopping lists to test are given below in the code. Given each list, your code should have the indicated output for the following cases:\n",
        "\n",
        "* * INPUT: ['pizza', 'cookies', 'pasta', 'orange juice']\n",
        "  * OUTPUT: 'Your shopping list has no milk or bread'\n",
        "* * INPUT: ['apples', 'cookies', 'pasta', 'milk']\n",
        "  * OUTPUT: 'Your shopping list has milk'\n",
        "* * INPUT: ['apples', 'cookies', 'pasta', 'bread']\n",
        "  * OUTPUT: 'Your shopping list has bread'\n",
        "* * INPUT: ['apples', 'cookies', 'milk', 'bread']\n",
        "  * OUTPUT: 'Your shopping list has milk and bread'\n",
        "\n",
        "### How to test your code\n",
        "Each of the required test cases is given in the code block below. After writing your code, uncomment one of these cases and run the code block to test. If you get the correct output for that case, comment it back out and uncomment the next test case, run your code block again and ensure you get the correct output for that case. Repeat this process to ensure your code outputs correctly for all the required test cases.\n",
        "\n"
      ]
    },
    {
      "cell_type": "markdown",
      "source": [
        "I really tried but I was so confused! I did email you but I also used my textbook for assistance"
      ],
      "metadata": {
        "id": "XOK_XZImL2il"
      },
      "id": "XOK_XZImL2il"
    },
    {
      "cell_type": "code",
      "execution_count": 13,
      "id": "afb4490e-6c81-405b-9cc7-9c9518f55338",
      "metadata": {
        "id": "afb4490e-6c81-405b-9cc7-9c9518f55338",
        "outputId": "1485c6cf-add9-4ba4-d75b-1b96056e8360",
        "colab": {
          "base_uri": "https://localhost:8080/"
        }
      },
      "outputs": [
        {
          "output_type": "stream",
          "name": "stdout",
          "text": [
            "True\n",
            "True\n",
            "True\n",
            "True\n",
            "both milk and bread in shopping_list\n",
            "either milk or bread in shopping_list\n"
          ]
        }
      ],
      "source": [
        "x = 'milk'\n",
        "y = 'bread'\n",
        "shopping_list = ['pizza', 'cookies', 'pasta', 'orange juice']\n",
        "print( x and y not in shopping_list)\n",
        "shopping_list = ['apples', 'cookies', 'pasta', 'bread']\n",
        "print (x not in shopping_list)\n",
        "shopping_list = ['apples', 'cookies', 'pasta', 'milk']\n",
        "print( y not in shopping_list)\n",
        "shopping_list = ['apples', 'cookies', 'milk', 'bread']\n",
        "print(x and y in shopping_list)\n",
        "\n",
        "'conditional statements'\n",
        "\n",
        "if x in shopping_list and y in shopping_list:\n",
        "    print(\"both milk and bread in shopping_list\")\n",
        "if x in shopping_list or y in shopping_list:\n",
        "    print(\"either milk or bread in shopping_list\")\n",
        "if x not in shopping_list:\n",
        "    print(\"no milk in shopping list\")\n",
        "if y not in shopping_list:\n",
        "    print(\"no bread in shopping list\")\n",
        "\n",
        "\n"
      ]
    },
    {
      "cell_type": "markdown",
      "id": "e9038748-ca91-4202-ad2d-88bcdecf0216",
      "metadata": {
        "id": "e9038748-ca91-4202-ad2d-88bcdecf0216"
      },
      "source": [
        "## 2. Use if-elif-else statements\n",
        "\n",
        "Your code should ask for a student to enter a numerical grade. For example, inputting a score of 83 should print the following output:\n",
        "\n",
        "``Letter grade: B``\n",
        "\n",
        "Use the usual grading scale for the grades A, B, C, D, F (i.e. don't use plus/minus grading).\n",
        "\n",
        "**Note:** When writing your code it may be helpful to have some test cases (rather than inputing a number each time). Define some test values at the top of the code block to run your code (similar to how you did Problem 1 above). When you're ready to fully test your code, uncomment the line that asks for user input."
      ]
    },
    {
      "cell_type": "markdown",
      "source": [
        "I tried using the notes but even though it said I was correct, something feels wrong because i don't know why I had to plug in the 83 for B"
      ],
      "metadata": {
        "id": "RQR1QTYxxkak"
      },
      "id": "RQR1QTYxxkak"
    },
    {
      "cell_type": "code",
      "execution_count": null,
      "id": "866cc63d-1d40-4bdd-b9c2-43ece4e468df",
      "metadata": {
        "id": "866cc63d-1d40-4bdd-b9c2-43ece4e468df",
        "outputId": "63862468-aa49-4bf1-81c1-d9c402380051",
        "colab": {
          "base_uri": "https://localhost:8080/"
        }
      },
      "outputs": [
        {
          "name": "stdout",
          "output_type": "stream",
          "text": [
            "x is less than 100\n",
            "x is equal to 83\n",
            "b 83\n"
          ]
        }
      ],
      "source": [
        "\n",
        "\n",
        "x = 83\n",
        "if x < 100:\n",
        "    print(\"x is less than 100\")\n",
        "    if x == 83:\n",
        "        print(\"x is equal to 83\")\n",
        "    else:\n",
        "        print(\"x is greater than 83 but not 100\")\n",
        "else:\n",
        "    print(\"x is greater than 100\")\n",
        "grade = int(input(\"b \"))\n"
      ]
    },
    {
      "cell_type": "markdown",
      "id": "0147f661-22a3-4b1d-8610-4dd8c8cd6904",
      "metadata": {
        "id": "0147f661-22a3-4b1d-8610-4dd8c8cd6904"
      },
      "source": [
        "## 3. Nested if statements\n",
        "\n",
        "Use nested if statements to add some error checking. Build on your code above to check for negative values or values over 100."
      ]
    },
    {
      "cell_type": "code",
      "execution_count": null,
      "id": "8b3a6a9d-c45e-4084-89e6-769d92647ac7",
      "metadata": {
        "id": "8b3a6a9d-c45e-4084-89e6-769d92647ac7"
      },
      "outputs": [],
      "source": [
        "\n",
        "score = int(input(\"54 \"))\n",
        "\n",
        "\n",
        "# check for values < 0 or > 100\n"
      ]
    },
    {
      "cell_type": "code",
      "execution_count": null,
      "id": "a570c468-b676-4332-a9d6-975bf5545357",
      "metadata": {
        "id": "a570c468-b676-4332-a9d6-975bf5545357"
      },
      "outputs": [],
      "source": []
    }
  ],
  "metadata": {
    "kernelspec": {
      "display_name": "Python 3 (ipykernel)",
      "language": "python",
      "name": "python3"
    },
    "language_info": {
      "codemirror_mode": {
        "name": "ipython",
        "version": 3
      },
      "file_extension": ".py",
      "mimetype": "text/x-python",
      "name": "python",
      "nbconvert_exporter": "python",
      "pygments_lexer": "ipython3",
      "version": "3.10.13"
    },
    "colab": {
      "provenance": [],
      "include_colab_link": true
    }
  },
  "nbformat": 4,
  "nbformat_minor": 5
}
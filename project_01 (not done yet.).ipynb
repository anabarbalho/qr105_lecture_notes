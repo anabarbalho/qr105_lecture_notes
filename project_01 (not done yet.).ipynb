{
  "cells": [
    {
      "cell_type": "markdown",
      "metadata": {
        "id": "view-in-github",
        "colab_type": "text"
      },
      "source": [
        "<a href=\"https://colab.research.google.com/github/anabarbalho/qr105_lecture_notes/blob/main/project_01%20(not%20done%20yet.).ipynb\" target=\"_parent\"><img src=\"https://colab.research.google.com/assets/colab-badge.svg\" alt=\"Open In Colab\"/></a>"
      ]
    },
    {
      "cell_type": "markdown",
      "id": "9496b0d9-98ae-42cd-a2cb-1184cf4e95f2",
      "metadata": {
        "id": "9496b0d9-98ae-42cd-a2cb-1184cf4e95f2"
      },
      "source": [
        "# Project 1: Creating TTRPG Tools"
      ]
    },
    {
      "cell_type": "code",
      "execution_count": null,
      "id": "588c0854-ea4b-464b-9cb1-b72323c071c9",
      "metadata": {
        "id": "588c0854-ea4b-464b-9cb1-b72323c071c9"
      },
      "outputs": [],
      "source": [
        "# Provide a brief summary of the project in your own words"
      ]
    },
    {
      "cell_type": "markdown",
      "source": [
        "for my project, I choose business wizards but for the initial of my project,there are four characters: the innovator, the dynamo, the cutthroat and the manager."
      ],
      "metadata": {
        "id": "tfjar1fx_I79"
      },
      "id": "tfjar1fx_I79"
    },
    {
      "cell_type": "code",
      "execution_count": null,
      "id": "c6cd2f7a-b0ec-46ac-b492-5926a093a244",
      "metadata": {
        "id": "c6cd2f7a-b0ec-46ac-b492-5926a093a244"
      },
      "outputs": [],
      "source": []
    },
    {
      "cell_type": "markdown",
      "id": "6680210f-f9a2-4b10-993b-63f53162e55c",
      "metadata": {
        "id": "6680210f-f9a2-4b10-993b-63f53162e55c"
      },
      "source": [
        "## I. Introduction"
      ]
    },
    {
      "cell_type": "code",
      "execution_count": null,
      "id": "d9f1d29d-e584-4cb9-b7c1-f4887d201dd4",
      "metadata": {
        "id": "d9f1d29d-e584-4cb9-b7c1-f4887d201dd4"
      },
      "outputs": [],
      "source": [
        "# Explain the theme of your game.\n",
        "\n",
        "# Discuss any details you find interesting or fun\n",
        "\n"
      ]
    },
    {
      "cell_type": "code",
      "execution_count": null,
      "id": "00b61e1f-6e9c-4e66-99a4-6bce02484e81",
      "metadata": {
        "id": "00b61e1f-6e9c-4e66-99a4-6bce02484e81"
      },
      "outputs": [],
      "source": []
    },
    {
      "cell_type": "code",
      "execution_count": null,
      "id": "74bf62fb-d752-4dcd-9f01-009699f326f5",
      "metadata": {
        "id": "74bf62fb-d752-4dcd-9f01-009699f326f5"
      },
      "outputs": [],
      "source": []
    },
    {
      "cell_type": "markdown",
      "id": "141c8b7b-eaa8-4d78-a33f-0656d178483d",
      "metadata": {
        "id": "141c8b7b-eaa8-4d78-a33f-0656d178483d"
      },
      "source": [
        "## II. Character Generation"
      ]
    },
    {
      "cell_type": "markdown",
      "source": [
        "use name, attribute (list) generator for each character."
      ],
      "metadata": {
        "id": "acCSFDDTvTyk"
      },
      "id": "acCSFDDTvTyk"
    },
    {
      "cell_type": "code",
      "execution_count": null,
      "id": "e19ffd1c-0d17-4cc1-8e20-455fc27d7ca1",
      "metadata": {
        "id": "e19ffd1c-0d17-4cc1-8e20-455fc27d7ca1"
      },
      "outputs": [],
      "source": [
        "# this is where you should place all cells that contain code or markdown\n",
        "# having to do with generating a character\n",
        "\n"
      ]
    },
    {
      "cell_type": "code",
      "execution_count": null,
      "id": "d4b8e18a-ecae-4080-8e43-71c6fb4801e8",
      "metadata": {
        "colab": {
          "base_uri": "https://localhost:8080/",
          "height": 209
        },
        "id": "d4b8e18a-ecae-4080-8e43-71c6fb4801e8",
        "outputId": "0f160d80-92c2-4567-d534-9aeb88d5f7bf"
      },
      "outputs": [
        {
          "output_type": "error",
          "ename": "NameError",
          "evalue": "name 'generate_class_character' is not defined",
          "traceback": [
            "\u001b[0;31m---------------------------------------------------------------------------\u001b[0m",
            "\u001b[0;31mNameError\u001b[0m                                 Traceback (most recent call last)",
            "\u001b[0;32m<ipython-input-5-874346a0ab21>\u001b[0m in \u001b[0;36m<cell line: 0>\u001b[0;34m()\u001b[0m\n\u001b[1;32m      9\u001b[0m         \u001b[0;32mreturn\u001b[0m \u001b[0;34mf\"Character({self.name}, college: {self.college}, major: {self.major})\"\u001b[0m\u001b[0;34m\u001b[0m\u001b[0;34m\u001b[0m\u001b[0m\n\u001b[1;32m     10\u001b[0m \u001b[0;34m\u001b[0m\u001b[0m\n\u001b[0;32m---> 11\u001b[0;31m \u001b[0mcharacter\u001b[0m \u001b[0;34m=\u001b[0m \u001b[0mgenerate_class_character\u001b[0m\u001b[0;34m\u001b[0m\u001b[0;34m\u001b[0m\u001b[0m\n\u001b[0m\u001b[1;32m     12\u001b[0m \u001b[0mprint\u001b[0m\u001b[0;34m(\u001b[0m\u001b[0mnew_character\u001b[0m\u001b[0;34m)\u001b[0m\u001b[0;34m\u001b[0m\u001b[0;34m\u001b[0m\u001b[0m\n",
            "\u001b[0;31mNameError\u001b[0m: name 'generate_class_character' is not defined"
          ]
        }
      ],
      "source": []
    },
    {
      "cell_type": "code",
      "execution_count": null,
      "id": "d5105437-d09f-4a95-8561-4d2ffa0cd078",
      "metadata": {
        "id": "d5105437-d09f-4a95-8561-4d2ffa0cd078"
      },
      "outputs": [],
      "source": []
    },
    {
      "cell_type": "markdown",
      "id": "b771b28e-21d8-40df-925c-8706161eeecc",
      "metadata": {
        "id": "b771b28e-21d8-40df-925c-8706161eeecc"
      },
      "source": [
        "## III. Quest Generation"
      ]
    },
    {
      "cell_type": "code",
      "execution_count": null,
      "id": "b5b87bcf-e30c-4cf5-858d-b3700bcf0d98",
      "metadata": {
        "id": "b5b87bcf-e30c-4cf5-858d-b3700bcf0d98"
      },
      "outputs": [],
      "source": [
        "# this is where you should place all cells that contain code or markdown\n",
        "# having to do with generating a quest prompt\n"
      ]
    },
    {
      "cell_type": "code",
      "execution_count": null,
      "id": "960502ad-90f6-45af-a349-38a095cce1e3",
      "metadata": {
        "id": "960502ad-90f6-45af-a349-38a095cce1e3"
      },
      "outputs": [],
      "source": []
    },
    {
      "cell_type": "code",
      "execution_count": null,
      "id": "997a1371-5520-404a-8eb4-77fe24c761aa",
      "metadata": {
        "id": "997a1371-5520-404a-8eb4-77fe24c761aa"
      },
      "outputs": [],
      "source": []
    },
    {
      "cell_type": "code",
      "execution_count": null,
      "id": "4485c859-4cd6-485e-8f54-e7d7f263a5fb",
      "metadata": {
        "id": "4485c859-4cd6-485e-8f54-e7d7f263a5fb"
      },
      "outputs": [],
      "source": []
    },
    {
      "cell_type": "markdown",
      "id": "a6aea256-0e02-4006-a992-a340b217b233",
      "metadata": {
        "id": "a6aea256-0e02-4006-a992-a340b217b233"
      },
      "source": [
        "## IV. Dice Roller"
      ]
    },
    {
      "cell_type": "markdown",
      "source": [
        "use print statements to help with results"
      ],
      "metadata": {
        "id": "z5Es4XaMvuFY"
      },
      "id": "z5Es4XaMvuFY"
    },
    {
      "cell_type": "code",
      "execution_count": null,
      "id": "9e3959b7-ffef-4c12-87a7-6c7905a573ed",
      "metadata": {
        "id": "9e3959b7-ffef-4c12-87a7-6c7905a573ed"
      },
      "outputs": [],
      "source": [
        "# this is where you should place all cells that contain code or markdown\n",
        "# having to do with creating your dice roller\n"
      ]
    },
    {
      "cell_type": "code",
      "execution_count": null,
      "id": "55cec440-a9c2-41e2-b318-11ed2185046b",
      "metadata": {
        "id": "55cec440-a9c2-41e2-b318-11ed2185046b"
      },
      "outputs": [],
      "source": [
        "def roll_dice(dice_type):\n",
        "  dice_set = {\n",
        "    'd4' : 4,\n",
        "    'd6' : 6,\n",
        "    'd8' : 8,\n",
        "    'd10' : 10\n",
        "}\n",
        "\n",
        "outcomes = {\n",
        "  'department': [1], #doing their jobs\n",
        "  'ideate' : [2,3], #crabby\n",
        "  'perpetrate': [3, 4, 5], #overworked\n",
        "  'liquidate': [4,5, 6, 7], #existential\n",
        "  'delegate': [5, 6, 7, 8, 9], # just done\n",
        "}\n",
        "\n",
        "outcomes=['liquidate']\n",
        "\n",
        "def check_resolver(roll, action):\n",
        "  if roll in outcomes[action]:\n",
        "    print(\"successful\")\n",
        "  else:\n",
        "    print(\"failure\")\n",
        "\n",
        "def roll_dice(dice_type):\n",
        "  roll = random.randint(1, dice_set[dice_type])\n",
        "\n",
        "  return roll"
      ]
    },
    {
      "cell_type": "code",
      "execution_count": null,
      "id": "81791bf9-0cad-47be-9067-b820fad2b5fe",
      "metadata": {
        "id": "81791bf9-0cad-47be-9067-b820fad2b5fe"
      },
      "outputs": [],
      "source": []
    },
    {
      "cell_type": "code",
      "execution_count": null,
      "id": "8b6f8abc-901b-49a5-bdc0-0a65ac93a77e",
      "metadata": {
        "id": "8b6f8abc-901b-49a5-bdc0-0a65ac93a77e"
      },
      "outputs": [],
      "source": []
    },
    {
      "cell_type": "markdown",
      "id": "e90654de-67e9-4d4e-a546-6a872c753007",
      "metadata": {
        "id": "e90654de-67e9-4d4e-a546-6a872c753007"
      },
      "source": [
        "# V. Running a Game"
      ]
    },
    {
      "cell_type": "code",
      "execution_count": null,
      "id": "20ba0ff0-1df7-4962-8155-9be2df26a967",
      "metadata": {
        "id": "20ba0ff0-1df7-4962-8155-9be2df26a967"
      },
      "outputs": [],
      "source": [
        "# this is where you should place all cells that contain code or markdown\n",
        "# having to do with starting a mock game\n",
        "\n",
        "# Generate at least 2 character sheets\n",
        "# Generate at least 1 quest\n",
        "# Roll at least 3 times testing differetnt die and conditions"
      ]
    },
    {
      "cell_type": "code",
      "execution_count": null,
      "id": "321a5053-e077-41cb-b9ce-f13a2337c596",
      "metadata": {
        "id": "321a5053-e077-41cb-b9ce-f13a2337c596"
      },
      "outputs": [],
      "source": []
    },
    {
      "cell_type": "markdown",
      "id": "0c74c90c-e726-4fd3-8322-50cbb1f71124",
      "metadata": {
        "id": "0c74c90c-e726-4fd3-8322-50cbb1f71124"
      },
      "source": [
        "## IV. Conclusions & Final Thoughts"
      ]
    },
    {
      "cell_type": "code",
      "execution_count": null,
      "id": "41f4bf2a-5451-4863-ad6f-ba69b5104f9d",
      "metadata": {
        "id": "41f4bf2a-5451-4863-ad6f-ba69b5104f9d"
      },
      "outputs": [],
      "source": [
        "# Obstacles or difficulties you had in working through the code\n",
        "# and how you overcame them (or why you did not)\n",
        "\n",
        "# What are some ways you could use the structures you create in this project\n",
        "# in tasks or projects you work on outside of this class? In teaching in general?\n",
        "\n",
        "# Discuss your use of generative AI in this project (or why you chose not to use it).\n",
        "# Did you find it helpful, not helpful? Why or why not?\n",
        "\n",
        "# Features you would like to add in the future if given more time or Python knowledge"
      ]
    }
  ],
  "metadata": {
    "kernelspec": {
      "display_name": "Python 3 (ipykernel)",
      "language": "python",
      "name": "python3"
    },
    "language_info": {
      "codemirror_mode": {
        "name": "ipython",
        "version": 3
      },
      "file_extension": ".py",
      "mimetype": "text/x-python",
      "name": "python",
      "nbconvert_exporter": "python",
      "pygments_lexer": "ipython3",
      "version": "3.10.13"
    },
    "colab": {
      "provenance": [],
      "include_colab_link": true
    }
  },
  "nbformat": 4,
  "nbformat_minor": 5
}
{
  "cells": [
    {
      "cell_type": "markdown",
      "metadata": {
        "id": "view-in-github",
        "colab_type": "text"
      },
      "source": [
        "<a href=\"https://colab.research.google.com/github/anabarbalho/qr105_lecture_notes/blob/main/project_01_revised_edits.ipynb\" target=\"_parent\"><img src=\"https://colab.research.google.com/assets/colab-badge.svg\" alt=\"Open In Colab\"/></a>"
      ]
    },
    {
      "cell_type": "markdown",
      "id": "9496b0d9-98ae-42cd-a2cb-1184cf4e95f2",
      "metadata": {
        "id": "9496b0d9-98ae-42cd-a2cb-1184cf4e95f2"
      },
      "source": [
        "# Project 1: Creating TTRPG Tools"
      ]
    },
    {
      "cell_type": "markdown",
      "source": [
        "Welcome to my Project 1 RPG Game! For this, I choose the Business Wizards RPG and put my own spin on it while still suing the components of the original RPG. There are four characters and each have their own randonly generate title + role: the innovator, the dynamo, the cutthroat and the manager, name and college + major. With every iniciation, there will be a new magical quest with a new generation of a business wizard and how successful their actions might truly  based on the possible sets of outcomes. There is also a possibility of having successful or failed rolls depending on the outcome and dice type rolled during your turn."
      ],
      "metadata": {
        "id": "tfjar1fx_I79"
      },
      "id": "tfjar1fx_I79"
    },
    {
      "cell_type": "markdown",
      "id": "6680210f-f9a2-4b10-993b-63f53162e55c",
      "metadata": {
        "id": "6680210f-f9a2-4b10-993b-63f53162e55c"
      },
      "source": [
        "## I. Introduction"
      ]
    },
    {
      "cell_type": "markdown",
      "source": [
        "Based on the components of the RPG and the code itself, this is more of a fantasy adventure themed RPG. All the elements of this code goes back to what a wizard world would feel like especially when we view their colleges and majors which seems to be more involved in the magical training realm.\n",
        "\n",
        "Even though, I did find some aspects of this RPG to be challenging; Once I got all of the harder aspects out of the way, I was able to have some fun with my RPG by creating an intro and although it isn't the prettiest or most interesting, I think what was important to me was that I was able to find ways in making this RPG fun to me rather than viewing it as just another project.\n"
      ],
      "metadata": {
        "id": "_VE9QvRCWDMG"
      },
      "id": "_VE9QvRCWDMG"
    },
    {
      "cell_type": "markdown",
      "source": [
        "### RPG Title Generator"
      ],
      "metadata": {
        "id": "hbiezIx2CYgh"
      },
      "id": "hbiezIx2CYgh"
    },
    {
      "cell_type": "code",
      "source": [
        "import random"
      ],
      "metadata": {
        "id": "IjxeJ-_TDEhX"
      },
      "id": "IjxeJ-_TDEhX",
      "execution_count": null,
      "outputs": []
    },
    {
      "cell_type": "code",
      "execution_count": null,
      "id": "00b61e1f-6e9c-4e66-99a4-6bce02484e81",
      "metadata": {
        "id": "00b61e1f-6e9c-4e66-99a4-6bce02484e81",
        "colab": {
          "base_uri": "https://localhost:8080/"
        },
        "outputId": "2a2734e7-a7fb-4854-b41b-8ebedcb8986a"
      },
      "outputs": [
        {
          "output_type": "stream",
          "name": "stdout",
          "text": [
            "Welcome to the game\n",
            " B U S I N E S S\n",
            " W I Z A R D S\n",
            "\n",
            "The title of your adventure: Ancient Quest: Ancient Lab\n"
          ]
        }
      ],
      "source": [
        "themes = [\"Quest\", \"Saga\", \"Legend\", \"Chronicles\", \"Journey\", \"Warrior\", \"Mystery\", \"Odyssey\"]\n",
        "adjectives = [\"Fateful\", \"Epic\", \"Ancient\", \"Dark\", \"Lost\", \"Unfathomable\", \"Eternal\", \"Hidden\"]\n",
        "locations = [\"Library\", \"Office\", \"Lab\"]\n",
        "\n",
        "# Function to generate a random RPG title\n",
        "def generate_rpg_title():\n",
        "    theme = random.choice(themes)\n",
        "    adjective = random.choice(adjectives)\n",
        "    location = random.choice(locations)\n",
        "\n",
        "    # Combine the theme, adjective, and noun to form a title\n",
        "    title = f\"{adjective} {theme}: {adjective} {location}\"\n",
        "\n",
        "    return title\n",
        "\n",
        "# Function to display the RPG title\n",
        "def display_title():\n",
        "    title = generate_rpg_title()\n",
        "    print(f\"Welcome to the game\")\n",
        "    print(f\" B U S I N E S S\")\n",
        "    print(f\" W I Z A R D S\")\n",
        "    print(f\"\\nThe title of your adventure: {title}\")\n",
        "\n",
        "# Generate and display the RPG title\n",
        "display_title()"
      ]
    },
    {
      "cell_type": "markdown",
      "source": [
        "I wanted to add something fun to my project, I dediced to add a code which I used the help of Chatgpt to created; This code allowed me to pick adjectives, locations and themes to help build a title and intro for the project."
      ],
      "metadata": {
        "id": "xOa9RcOiDlkD"
      },
      "id": "xOa9RcOiDlkD"
    },
    {
      "cell_type": "markdown",
      "id": "141c8b7b-eaa8-4d78-a33f-0656d178483d",
      "metadata": {
        "id": "141c8b7b-eaa8-4d78-a33f-0656d178483d"
      },
      "source": [
        "## II. Character Generation"
      ]
    },
    {
      "cell_type": "markdown",
      "source": [
        "In this part of the project, I created a code script that would basically create a fiction character by randomly selecting a wizard-like first/last name, their major and college, also their title and role in the office."
      ],
      "metadata": {
        "id": "acCSFDDTvTyk"
      },
      "id": "acCSFDDTvTyk"
    },
    {
      "cell_type": "code",
      "execution_count": null,
      "id": "d5105437-d09f-4a95-8561-4d2ffa0cd078",
      "metadata": {
        "id": "d5105437-d09f-4a95-8561-4d2ffa0cd078"
      },
      "outputs": [],
      "source": [
        "import random\n",
        "\n",
        "first_names = [\"Zara\", \"Lucian\", \"Thorn\", \"Mira\", \"Oren\"]\n",
        "last_names = [\"Goldspire\", \"Silverwind\", \"Flarehart\", \"Dawncrest\", \"Ironveil\"]\n",
        "\n",
        "major = [\n",
        "    \"Earth\",\n",
        "    \"Forge\",\n",
        "    \"Night\",\n",
        "    \"Sea\",\n",
        "    \"Sky\"\n",
        "]\n",
        "\n",
        "college = [\n",
        "    \"Conjuration\",\n",
        "    \"Enchantment\",\n",
        "    \"Evocation\",\n",
        "    \"Illumination\",\n",
        "    \"Summoning\"\n",
        "]\n",
        "\n",
        "role = [\n",
        "    \"The Innovator\",\n",
        "    \"The Dynamo\",\n",
        "    \"The Cutthroat\",\n",
        "    \"The Manager\"\n",
        "]\n",
        "\n",
        "title = [\n",
        "    \"The Brave\",\n",
        "    \"The Fearless\",\n",
        "    \"The Mighty\",\n",
        "    \"The Wise\",\n",
        "    \"The Bold\"\n",
        "]\n",
        "\n",
        "dice_set = {\n",
        "    'd4': 4,\n",
        "    'd6': 6,\n",
        "    'd8': 8,\n",
        "    'd10': 10\n",
        "}\n",
        "\n",
        "def generate_wizard_name():\n",
        "    first = random.choice(first_names)\n",
        "    last = random.choice(last_names)\n",
        "    wizard_name = first + \" \" + last\n",
        "    print(f\"Generated Wizard Name: {wizard_name}\")\n",
        "    return wizard_name\n",
        "\n",
        "def college_generator():\n",
        "    return random.choice(college)\n",
        "\n",
        "def major_generator():\n",
        "    return random.choice(major)\n",
        "\n",
        "def title_generator():\n",
        "    \"\"\"Randomly selects a role\"\"\"\n",
        "    return random.choice(title)\n",
        "\n",
        "def role_generator():\n",
        "    \"\"\"Randomly selects a role\"\"\"\n",
        "    return random.choice(role)\n",
        "\n",
        "def generate_character_sheet():\n",
        "    name = generate_wizard_name()\n",
        "    colleges = college_generator()\n",
        "    majors = major_generator()\n",
        "    roles = role_generator()\n",
        "    titles = title_generator()\n",
        "\n",
        "\n",
        "    character_sheet = f'''\n",
        "Name: {name}\n",
        "Title: {titles}\n",
        "College: {colleges}\n",
        "Major: {majors}\n",
        "Role: {roles}\n",
        "'''\n",
        "    return character_sheet\n"
      ]
    },
    {
      "cell_type": "markdown",
      "id": "b771b28e-21d8-40df-925c-8706161eeecc",
      "metadata": {
        "id": "b771b28e-21d8-40df-925c-8706161eeecc"
      },
      "source": [
        "## III. Quest Generation"
      ]
    },
    {
      "cell_type": "markdown",
      "source": [
        "For the Quest generation, I used certain objectives, locations and obstacles related to the wizard theme and overall corporate wizard idea of the RPG. I stirred away from doing anything similar to Harry Potter like avised. All three attributes were randomly selected; The location and obstacles statements were reformatted so they could actually make sense when printed out."
      ],
      "metadata": {
        "id": "w0fnMFY8HHk2"
      },
      "id": "w0fnMFY8HHk2"
    },
    {
      "cell_type": "code",
      "execution_count": null,
      "id": "960502ad-90f6-45af-a349-38a095cce1e3",
      "metadata": {
        "id": "960502ad-90f6-45af-a349-38a095cce1e3",
        "outputId": "267e5c80-bdcb-4ece-8dc4-a7ec730b4173",
        "colab": {
          "base_uri": "https://localhost:8080/"
        }
      },
      "outputs": [
        {
          "output_type": "stream",
          "name": "stdout",
          "text": [
            "Defend the company from a magical sabotage attempt by corporate rivals in The Enchanted Boardroom by relieving the Time Constraints (urgent deadlines and time-sensitive tasks).\n"
          ]
        }
      ],
      "source": [
        "\n",
        "objectives = [\n",
        "    \"Investigate a breach in the company's magical security system\",\n",
        "    \"Retrieve an ancient artifact from the rival company's vault\",\n",
        "    \"Convince a powerful board member to approve a risky magical project\",\n",
        "    \"Defend the company from a magical sabotage attempt by corporate rivals\"\n",
        "    ]\n",
        "\n",
        "locations = [\n",
        "    \"in the Arcane Headquarters\",\n",
        "    \"in The Enchanted Boardroom\",\n",
        "    \"in The Spellforge Lab\",\n",
        "    \"in The Magical Library of Lore\"\n",
        "    ]\n",
        "\n",
        "obstacles = [\n",
        "    \"without the waking Magical Creatures (summoned beasts, enchanted guardians)\",\n",
        "    \"cursed by the Hostile Spellcasters (enemy wizards using aggressive magic)\",\n",
        "    \"by relieving the Time Constraints (urgent deadlines and time-sensitive tasks)\",\n",
        "    \"from the Unreliable Allies (betrayal or lack of support from coworkers)\"\n",
        "    ]\n",
        "\n",
        "def generate_quest():\n",
        "    location = random.choice(locations)\n",
        "    obstacle = random.choice(obstacles)\n",
        "    objective = random.choice(objectives)\n",
        "\n",
        "\n",
        "    quest_prompt = f\"{objective} {location} {obstacle}.\"\n",
        "    return quest_prompt\n",
        "\n",
        "\n",
        "quest = generate_quest()\n",
        "print(quest)"
      ]
    },
    {
      "cell_type": "markdown",
      "id": "a6aea256-0e02-4006-a992-a340b217b233",
      "metadata": {
        "id": "a6aea256-0e02-4006-a992-a340b217b233"
      },
      "source": [
        "## IV. Dice Roller"
      ]
    },
    {
      "cell_type": "markdown",
      "source": [
        "For the diceset, it demonstrates 4 different types of die and how many sides are in them like 'd4' has 4. This is the part where the player will \"role\" a die and the outcomes associated with number received will determine whether or not their role was successful or a failure."
      ],
      "metadata": {
        "id": "z5Es4XaMvuFY"
      },
      "id": "z5Es4XaMvuFY"
    },
    {
      "cell_type": "code",
      "execution_count": null,
      "id": "81791bf9-0cad-47be-9067-b820fad2b5fe",
      "metadata": {
        "id": "81791bf9-0cad-47be-9067-b820fad2b5fe"
      },
      "outputs": [],
      "source": [
        "import random\n",
        "\n",
        "dice_set = {\n",
        "    'd4': 4,\n",
        "    'd6': 6,\n",
        "    'd8': 8,\n",
        "    'd10': 10\n",
        "}\n",
        "\n",
        "outcomes = {\n",
        "    'department': [1],         # doing their jobs\n",
        "    'ideate': [2, 3],          # crabby\n",
        "    'perpetrate': [3, 4, 5],   # overworked\n",
        "    'liquidate': [4, 5, 6, 7], # existential\n",
        "    'delegate': [5, 6, 7, 8, 9]  # just done\n",
        "}\n",
        "\n",
        "def roll_dice(dice_type):\n",
        "    roll = random.randint(1, dice_set[dice_type])\n",
        "    print(f'Rolled a {roll} using {dice_type}')\n",
        "\n",
        "    return roll\n",
        "\n",
        "\n",
        "def check_resolver(roll, action):\n",
        "    if action in outcomes:\n",
        "        if roll in outcomes[action]:\n",
        "            print(\"Successful!\")\n",
        "            return True\n",
        "        else:\n",
        "            print(\"Failure!\")\n",
        "            return False\n",
        "    else:\n",
        "        print(f\"Action '{action}' not recognized.\")\n",
        "        return None\n",
        "\n",
        "\n",
        "def perform_action_roll(dice_type, action):\n",
        "\n",
        "    roll = roll_dice(dice_type)\n",
        "    success = check_resolver(roll, action)\n",
        "\n",
        "\n",
        "    return roll, success\n",
        "\n"
      ]
    },
    {
      "cell_type": "markdown",
      "id": "e90654de-67e9-4d4e-a546-6a872c753007",
      "metadata": {
        "id": "e90654de-67e9-4d4e-a546-6a872c753007"
      },
      "source": [
        "# V. Running a Game"
      ]
    },
    {
      "cell_type": "markdown",
      "source": [
        "Lines 2 and 3, I intially described how many character traits (two times) needs to be printed on the output and how many times they are allowed to roll the dice (three times). In this part, this is where I added all my \"call\" functions without having to actual place the entire code for each part of the game into this code script. This allows for better organization and allowed me to view how the code would run all together. All components like the title, charater generator, quest gen, and dice roller template are all placed here with the correct requirement."
      ],
      "metadata": {
        "id": "4C_ducTYJ23u"
      },
      "id": "4C_ducTYJ23u"
    },
    {
      "cell_type": "code",
      "execution_count": null,
      "id": "321a5053-e077-41cb-b9ce-f13a2337c596",
      "metadata": {
        "id": "321a5053-e077-41cb-b9ce-f13a2337c596",
        "colab": {
          "base_uri": "https://localhost:8080/"
        },
        "outputId": "458405cd-e7fa-4afc-9580-881bce934cca"
      },
      "outputs": [
        {
          "output_type": "stream",
          "name": "stdout",
          "text": [
            "Welcome to the game\n",
            " B U S I N E S S\n",
            " W I Z A R D S\n",
            "\n",
            "The title of your adventure: Epic Chronicles: Epic in The Magical Library of Lore\n",
            "////////////////////\n",
            "Generate Characters\n",
            "////////////////////\n",
            "Generated Wizard Name: Oren Silverwind\n",
            "\n",
            "Name: Oren Silverwind\n",
            "Title: The Wise\n",
            "College: Enchantment\n",
            "Major: Earth\n",
            "Role: The Manager\n",
            "\n",
            "Generated Wizard Name: Mira Dawncrest\n",
            "\n",
            "Name: Mira Dawncrest\n",
            "Title: The Mighty\n",
            "College: Illumination\n",
            "Major: Forge\n",
            "Role: The Dynamo\n",
            "\n",
            "////////////////////\n",
            "Generate Quest\n",
            "////////////////////\n",
            "You have been chosen to embark on a tremendous quest.... You must\n",
            "--------------------\n",
            "Defend the company from a magical sabotage attempt by corporate rivals in The Enchanted Boardroom by relieving the Time Constraints (urgent deadlines and time-sensitive tasks).\n",
            "////////////////////\n",
            "Let's roll a die!\n",
            "////////////////////\n",
            "Rolled a 2 using d4\n",
            "Failure!\n",
            "You rolled a  2 for perpetrate\n",
            "--------------------\n",
            "Rolled a 1 using d10\n",
            "Failure!\n",
            "You rolled a  1 for delegate\n",
            "--------------------\n",
            "Rolled a 3 using d6\n",
            "Successful!\n",
            "You rolled a  3 for ideate\n",
            "--------------------\n"
          ]
        }
      ],
      "source": [
        "\n",
        "num_players = 2\n",
        "num_turns = 3\n",
        "display_title()\n",
        "\n",
        "\n",
        "print(20*'/')\n",
        "print('Generate Characters')\n",
        "print(20*'/')\n",
        "\n",
        "for _ in range(num_players):\n",
        "    print(generate_character_sheet())\n",
        "\n",
        "print(20*'/')\n",
        "print('Generate Quest')\n",
        "print(20*'/')\n",
        "print('You have been chosen to embark on a tremendous quest.... You must')\n",
        "print(20*'-')\n",
        "print(quest)\n",
        "\n",
        "\n",
        "\n",
        "\n",
        "\n",
        "\n",
        "\n",
        "print(20*'/')\n",
        "print('Let\\'s roll a die!')\n",
        "print(20*'/')\n",
        "\n",
        "\n",
        "die_choice = ['d4', 'd10', 'd6']\n",
        "action = ['perpetrate', 'delegate', 'ideate']\n",
        "\n",
        "for i in range(num_turns):\n",
        "  result, success = perform_action_roll(die_choice[i], action[i])\n",
        "  print('You rolled a ', result, 'for', action[i])\n",
        "  print(20*'-')\n",
        "\n"
      ]
    },
    {
      "cell_type": "markdown",
      "id": "0c74c90c-e726-4fd3-8322-50cbb1f71124",
      "metadata": {
        "id": "0c74c90c-e726-4fd3-8322-50cbb1f71124"
      },
      "source": [
        "## IV. Conclusions & Final Thoughts"
      ]
    },
    {
      "cell_type": "markdown",
      "source": [
        "As I was working on this RPG, I think some of my obstacles or difficulties was finding ways to call my function because I could write the code and it would come out as correct but wouldn't print an outcome I was looking for. Essentially, what helped me overcome these challenges was chatgpt and I would ask it \"how does calling a function look like\" and it really helped me.\n",
        "These structures in the RPG could be a fun project for including coding and student's reading at the same time especially when they are learning at how to locate themes in a story. You could use this project to teach students fun ways to locate themes in a book and can assist with their typing skills at the same time.\n",
        "Chatgpt assisted me a lot during this project; if it was with creating locations, adjectives, or wizard names. It also helped me find missing pieces to my code or help me start them if I was really stuck which I won't lie, I really was because there are so many ways to start up a code but sometimes, I'm just not sure which way is the right one.\n",
        "\n",
        "I did have time on my hands and I tried to create a fun title or at least an intro to the RPG but if I had a little bit more time and knowledge with using python, I would try to do something with the RPG Reggie had created because it was really cool but something else I would want to try is creating better sections in the coding to separate the output with its equally sections.\n",
        "\n"
      ],
      "metadata": {
        "id": "5Ie6jDsYbfKJ"
      },
      "id": "5Ie6jDsYbfKJ"
    },
    {
      "cell_type": "markdown",
      "source": [
        "### Notebook Documetation"
      ],
      "metadata": {
        "id": "AwciKz9Exyom"
      },
      "id": "AwciKz9Exyom"
    },
    {
      "cell_type": "markdown",
      "source": [
        "I had used the notebook on Lecture Notes 4.1 and the coding activity 4 to assist.\n"
      ],
      "metadata": {
        "id": "Kyu7Y6RZyR_t"
      },
      "id": "Kyu7Y6RZyR_t"
    },
    {
      "cell_type": "markdown",
      "source": [
        "### Work Cited"
      ],
      "metadata": {
        "id": "uLl8QSxbyfeF"
      },
      "id": "uLl8QSxbyfeF"
    },
    {
      "cell_type": "markdown",
      "source": [
        "ChatGPT\n",
        "Lecture Notes 4.1\n",
        "Coding Activity 4"
      ],
      "metadata": {
        "id": "8O76eddTHxah"
      },
      "id": "8O76eddTHxah"
    }
  ],
  "metadata": {
    "kernelspec": {
      "display_name": "Python 3 (ipykernel)",
      "language": "python",
      "name": "python3"
    },
    "language_info": {
      "codemirror_mode": {
        "name": "ipython",
        "version": 3
      },
      "file_extension": ".py",
      "mimetype": "text/x-python",
      "name": "python",
      "nbconvert_exporter": "python",
      "pygments_lexer": "ipython3",
      "version": "3.10.13"
    },
    "colab": {
      "provenance": [],
      "include_colab_link": true
    }
  },
  "nbformat": 4,
  "nbformat_minor": 5
}
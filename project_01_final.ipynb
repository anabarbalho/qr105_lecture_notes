{
  "cells": [
    {
      "cell_type": "markdown",
      "metadata": {
        "id": "view-in-github",
        "colab_type": "text"
      },
      "source": [
        "<a href=\"https://colab.research.google.com/github/anabarbalho/qr105_lecture_notes/blob/main/project_01_final.ipynb\" target=\"_parent\"><img src=\"https://colab.research.google.com/assets/colab-badge.svg\" alt=\"Open In Colab\"/></a>"
      ]
    },
    {
      "cell_type": "markdown",
      "id": "9496b0d9-98ae-42cd-a2cb-1184cf4e95f2",
      "metadata": {
        "id": "9496b0d9-98ae-42cd-a2cb-1184cf4e95f2"
      },
      "source": [
        "# Project 1: Creating TTRPG Tools"
      ]
    },
    {
      "cell_type": "code",
      "execution_count": null,
      "id": "588c0854-ea4b-464b-9cb1-b72323c071c9",
      "metadata": {
        "id": "588c0854-ea4b-464b-9cb1-b72323c071c9"
      },
      "outputs": [],
      "source": [
        "# Provide a brief summary of the project in your own words"
      ]
    },
    {
      "cell_type": "markdown",
      "source": [
        "For my project, I choose business wizards but for the initial of my project,there are four characters which each have their own title + role: the innovator, the dynamo, the cutthroat and the manager. In my Business Wizard RPG, I have given each character a wizard name, role, fun creative title and they've both been issued a college with their majors as instructed in the book.\n",
        "With every iniciation, there will be a new magical quest with a new generation of a business wizard and how successful their actions might truly  based on the possible sets of outcomes."
      ],
      "metadata": {
        "id": "tfjar1fx_I79"
      },
      "id": "tfjar1fx_I79"
    },
    {
      "cell_type": "code",
      "execution_count": null,
      "id": "c6cd2f7a-b0ec-46ac-b492-5926a093a244",
      "metadata": {
        "id": "c6cd2f7a-b0ec-46ac-b492-5926a093a244"
      },
      "outputs": [],
      "source": []
    },
    {
      "cell_type": "markdown",
      "id": "6680210f-f9a2-4b10-993b-63f53162e55c",
      "metadata": {
        "id": "6680210f-f9a2-4b10-993b-63f53162e55c"
      },
      "source": [
        "## I. Introduction"
      ]
    },
    {
      "cell_type": "code",
      "execution_count": null,
      "id": "d9f1d29d-e584-4cb9-b7c1-f4887d201dd4",
      "metadata": {
        "id": "d9f1d29d-e584-4cb9-b7c1-f4887d201dd4"
      },
      "outputs": [],
      "source": [
        "# Explain the theme of your game.\n",
        "\n",
        "# Discuss any details you find interesting or fun\n",
        "\n"
      ]
    },
    {
      "cell_type": "markdown",
      "source": [
        "Based on the components of the RPG and the code itself, this is more of a fantasy adventure themed RPG. All the elements of this code goes back to what a wizard world would feel like especially when we view their colleges and majors which seems to be more involved in the magical training realm.\n",
        "\n",
        "Even though, I did find some aspects of this RPG to be challenging; Once I got all of the harder aspects out of the way, I was able to have some fun with my RPG by creating an intro and although it isn't the prettiest or most interesting, I think what was important to me was that I was able to find ways in making this RPG fun to me rather than viewing it as just another project.\n"
      ],
      "metadata": {
        "id": "_VE9QvRCWDMG"
      },
      "id": "_VE9QvRCWDMG"
    },
    {
      "cell_type": "code",
      "execution_count": null,
      "id": "00b61e1f-6e9c-4e66-99a4-6bce02484e81",
      "metadata": {
        "id": "00b61e1f-6e9c-4e66-99a4-6bce02484e81",
        "colab": {
          "base_uri": "https://localhost:8080/"
        },
        "outputId": "6bfc3513-86cf-49b1-f3ac-8f003ab98889"
      },
      "outputs": [
        {
          "output_type": "stream",
          "name": "stdout",
          "text": [
            "Welcome to the game\n",
            " B U S I N E S S\n",
            " W I Z A R D S\n",
            "\n",
            "The title of your adventure: Eternal Chronicles: Eternal Library\n"
          ]
        }
      ],
      "source": [
        "themes = [\"Quest\", \"Saga\", \"Legend\", \"Chronicles\", \"Journey\", \"Warrior\", \"Mystery\", \"Odyssey\"]\n",
        "adjectives = [\"Fateful\", \"Epic\", \"Ancient\", \"Dark\", \"Lost\", \"Unfathomable\", \"Eternal\", \"Hidden\"]\n",
        "location = [\"Library\"]\n",
        "\n",
        "# Function to generate a random RPG title\n",
        "def generate_rpg_title():\n",
        "    theme = random.choice(themes)\n",
        "    adjective = random.choice(adjectives)\n",
        "    noun = random.choice(nouns)\n",
        "\n",
        "    # Combine the theme, adjective, and noun to form a title\n",
        "    title = f\"{adjective} {theme}: {adjective} {noun}\"\n",
        "\n",
        "    return title\n",
        "\n",
        "# Function to display the RPG title\n",
        "def display_title():\n",
        "    title = generate_rpg_title()\n",
        "    print(f\"Welcome to the game\")\n",
        "    print(f\" B U S I N E S S\")\n",
        "    print(f\" W I Z A R D S\")\n",
        "    print(f\"\\nThe title of your adventure: {title}\")\n",
        "\n",
        "# Generate and display the RPG title\n",
        "display_title()"
      ]
    },
    {
      "cell_type": "code",
      "execution_count": null,
      "id": "74bf62fb-d752-4dcd-9f01-009699f326f5",
      "metadata": {
        "id": "74bf62fb-d752-4dcd-9f01-009699f326f5"
      },
      "outputs": [],
      "source": []
    },
    {
      "cell_type": "markdown",
      "id": "141c8b7b-eaa8-4d78-a33f-0656d178483d",
      "metadata": {
        "id": "141c8b7b-eaa8-4d78-a33f-0656d178483d"
      },
      "source": [
        "## II. Character Generation"
      ]
    },
    {
      "cell_type": "markdown",
      "source": [
        "use name, attribute (list) generator for each character."
      ],
      "metadata": {
        "id": "acCSFDDTvTyk"
      },
      "id": "acCSFDDTvTyk"
    },
    {
      "cell_type": "code",
      "execution_count": null,
      "id": "e19ffd1c-0d17-4cc1-8e20-455fc27d7ca1",
      "metadata": {
        "id": "e19ffd1c-0d17-4cc1-8e20-455fc27d7ca1"
      },
      "outputs": [],
      "source": [
        "# this is where you should place all cells that contain code or markdown\n",
        "# having to do with generating a character\n",
        "\n"
      ]
    },
    {
      "cell_type": "code",
      "execution_count": null,
      "id": "d4b8e18a-ecae-4080-8e43-71c6fb4801e8",
      "metadata": {
        "id": "d4b8e18a-ecae-4080-8e43-71c6fb4801e8"
      },
      "outputs": [],
      "source": []
    },
    {
      "cell_type": "code",
      "execution_count": null,
      "id": "d5105437-d09f-4a95-8561-4d2ffa0cd078",
      "metadata": {
        "id": "d5105437-d09f-4a95-8561-4d2ffa0cd078",
        "colab": {
          "base_uri": "https://localhost:8080/"
        },
        "outputId": "cfac8c54-8ba0-4a9e-857a-d86942030f22"
      },
      "outputs": [
        {
          "output_type": "stream",
          "name": "stdout",
          "text": [
            "Generated Wizard Name: Mira Flarehart\n",
            "\n",
            "\\\\\\\\\\\\\\\\\\\\\\\\\\\\        \n",
            "   Mira Flarehart the Brave\n",
            "/////////////////////////\n",
            "College: summoning\n",
            "Major: earth\n",
            "Role: the cutthroat\n",
            "\n"
          ]
        }
      ],
      "source": [
        "import random\n",
        "\n",
        "first_names = [\"Zara\", \"Lucian\", \"Thorn\", \"Mira\", \"Oren\"]\n",
        "last_names = [\"Goldspire\", \"Silverwind\", \"Flarehart\", \"Dawncrest\", \"Ironveil\"]\n",
        "\n",
        "major = [\n",
        "    \"earth\",\n",
        "    \"forge\",\n",
        "    \"night\",\n",
        "    \"sea\",\n",
        "    \"sky\"\n",
        "]\n",
        "\n",
        "college = [\n",
        "    \"conjuration\",\n",
        "    \"enchantment\",\n",
        "    \"evocation\",\n",
        "    \"illumination\",\n",
        "    \"summoning\"\n",
        "]\n",
        "\n",
        "role = [\n",
        "    \"the innovator\",\n",
        "    \"the dynamo\",\n",
        "    \"the cutthroat\",\n",
        "    \"the manager\"\n",
        "]\n",
        "\n",
        "title = [\n",
        "    \"the Brave\",\n",
        "    \"the Fearless\",\n",
        "    \"the Mighty\",\n",
        "    \"the Wise\",\n",
        "    \"the Bold\"\n",
        "]\n",
        "\n",
        "dice_set = {\n",
        "    'd4': 4,\n",
        "    'd6': 6,\n",
        "    'd8': 8,\n",
        "    'd10': 10\n",
        "}\n",
        "\n",
        "def generate_wizard_name():\n",
        "    first = random.choice(first_names)\n",
        "    last = random.choice(last_names)\n",
        "    wizard_name = first + \" \" + last\n",
        "    print(f\"Generated Wizard Name: {wizard_name}\")\n",
        "    return wizard_name\n",
        "\n",
        "def college_generator():\n",
        "    return random.choice(college)\n",
        "\n",
        "def major_generator():\n",
        "    return random.choice(major)\n",
        "\n",
        "def title_generator():\n",
        "    \"\"\"Randomly selects a role\"\"\"\n",
        "    return random.choice(title)\n",
        "\n",
        "def role_generator():\n",
        "    \"\"\"Randomly selects a role\"\"\"\n",
        "    return random.choice(role)\n",
        "\n",
        "def generate_character_sheet():\n",
        "    name = generate_wizard_name()\n",
        "    colleges = college_generator()\n",
        "    majors = major_generator()\n",
        "    roles = role_generator()\n",
        "    titles = title_generator()\n",
        "\n",
        "    # Create the character sheet string\n",
        "    character_sheet = f'''\n",
        "\\\\\\\\\\\\\\\\\\\\\\\\\\\\\\\\\\\\\\\\\\\\\\\\\\\\\\\\\\\n",
        "\n",
        "   {name} {titles}\n",
        "/////////////////////////\n",
        "College: {colleges}\n",
        "Major: {majors}\n",
        "Role: {roles}\n",
        "'''\n",
        "\n",
        "    print(character_sheet)\n",
        "\n",
        "# To generate a character sheet\n",
        "generate_character_sheet()"
      ]
    },
    {
      "cell_type": "markdown",
      "id": "b771b28e-21d8-40df-925c-8706161eeecc",
      "metadata": {
        "id": "b771b28e-21d8-40df-925c-8706161eeecc"
      },
      "source": [
        "## III. Quest Generation"
      ]
    },
    {
      "cell_type": "code",
      "execution_count": null,
      "id": "b5b87bcf-e30c-4cf5-858d-b3700bcf0d98",
      "metadata": {
        "id": "b5b87bcf-e30c-4cf5-858d-b3700bcf0d98"
      },
      "outputs": [],
      "source": [
        "# this is where you should place all cells that contain code or markdown\n",
        "# having to do with generating a quest prompt\n"
      ]
    },
    {
      "cell_type": "code",
      "execution_count": null,
      "id": "960502ad-90f6-45af-a349-38a095cce1e3",
      "metadata": {
        "id": "960502ad-90f6-45af-a349-38a095cce1e3",
        "outputId": "3ca57b76-e0d2-4707-aa92-46503899b1b4",
        "colab": {
          "base_uri": "https://localhost:8080/"
        }
      },
      "outputs": [
        {
          "output_type": "stream",
          "name": "stdout",
          "text": [
            "The Magical Library of Lore Unreliable Allies (betrayal or lack of support from coworkers) Convince a powerful board member to approve a risky magical project..\n"
          ]
        }
      ],
      "source": [
        "import random\n",
        "\n",
        "objectives = [\n",
        "    \"Investigate a breach in the company's magical security system.\",\n",
        "    \"Retrieve an ancient artifact from the rival company's vault.\",\n",
        "    \"Convince a powerful board member to approve a risky magical project.\",\n",
        "    \"Defend the company from a magical sabotage attempt by corporate rivals.\"\n",
        "    ]\n",
        "\n",
        "locations = [\n",
        "    \"Arcane Headquarters\",\n",
        "    \"The Enchanted Boardroom\",\n",
        "    \"The Spellforge Lab\",\n",
        "    \"The Magical Library of Lore\"\n",
        "    ]\n",
        "\n",
        "obstacles = [\n",
        "    \"Magical Creatures (summoned beasts, enchanted guardians)\",\n",
        "    \"Hostile Spellcasters (enemy wizards using aggressive magic)\",\n",
        "    \"Time Constraints (urgent deadlines and time-sensitive tasks)\",\n",
        "    \"Unreliable Allies (betrayal or lack of support from coworkers)\"\n",
        "    ]\n",
        "\n",
        "def generate_quest():\n",
        "    location = random.choice(locations)\n",
        "    obstacle = random.choice(obstacles)\n",
        "    objective = random.choice(objectives)\n",
        "\n",
        "    # Combine the elements into a prompt\n",
        "    quest_prompt = f\"{location} {obstacle} {objective}.\"\n",
        "    return quest_prompt\n",
        "\n",
        "# Generate and display a quest prompt\n",
        "quest = generate_quest()\n",
        "print(quest)"
      ]
    },
    {
      "cell_type": "code",
      "execution_count": null,
      "id": "997a1371-5520-404a-8eb4-77fe24c761aa",
      "metadata": {
        "id": "997a1371-5520-404a-8eb4-77fe24c761aa"
      },
      "outputs": [],
      "source": []
    },
    {
      "cell_type": "code",
      "execution_count": null,
      "id": "4485c859-4cd6-485e-8f54-e7d7f263a5fb",
      "metadata": {
        "id": "4485c859-4cd6-485e-8f54-e7d7f263a5fb"
      },
      "outputs": [],
      "source": []
    },
    {
      "cell_type": "markdown",
      "id": "a6aea256-0e02-4006-a992-a340b217b233",
      "metadata": {
        "id": "a6aea256-0e02-4006-a992-a340b217b233"
      },
      "source": [
        "## IV. Dice Roller"
      ]
    },
    {
      "cell_type": "markdown",
      "source": [
        "use print statements to help with results"
      ],
      "metadata": {
        "id": "z5Es4XaMvuFY"
      },
      "id": "z5Es4XaMvuFY"
    },
    {
      "cell_type": "code",
      "execution_count": null,
      "id": "9e3959b7-ffef-4c12-87a7-6c7905a573ed",
      "metadata": {
        "id": "9e3959b7-ffef-4c12-87a7-6c7905a573ed"
      },
      "outputs": [],
      "source": [
        "# this is where you should place all cells that contain code or markdown\n",
        "# having to do with creating your dice roller\n"
      ]
    },
    {
      "cell_type": "code",
      "execution_count": null,
      "id": "55cec440-a9c2-41e2-b318-11ed2185046b",
      "metadata": {
        "id": "55cec440-a9c2-41e2-b318-11ed2185046b"
      },
      "outputs": [],
      "source": []
    },
    {
      "cell_type": "code",
      "execution_count": null,
      "id": "81791bf9-0cad-47be-9067-b820fad2b5fe",
      "metadata": {
        "id": "81791bf9-0cad-47be-9067-b820fad2b5fe",
        "colab": {
          "base_uri": "https://localhost:8080/"
        },
        "outputId": "43eaff52-3c23-4602-9351-c3c8c3ebf79c"
      },
      "outputs": [
        {
          "output_type": "stream",
          "name": "stdout",
          "text": [
            "Rolled a d6: 6\n",
            "Successful!\n"
          ]
        }
      ],
      "source": [
        "import random\n",
        "\n",
        "# Dice set mapping\n",
        "dice_set = {\n",
        "    'd4': 4,\n",
        "    'd6': 6,\n",
        "    'd8': 8,\n",
        "    'd10': 10\n",
        "}\n",
        "\n",
        "# Action outcomes mapping\n",
        "outcomes = {\n",
        "    'department': [1],         # doing their jobs\n",
        "    'ideate': [2, 3],          # crabby\n",
        "    'perpetrate': [3, 4, 5],   # overworked\n",
        "    'liquidate': [4, 5, 6, 7], # existential\n",
        "    'delegate': [5, 6, 7, 8, 9]  # just done\n",
        "}\n",
        "\n",
        "# Dice roll function\n",
        "def roll_dice(dice_type):\n",
        "    roll = random.randint(1, dice_set[dice_type])\n",
        "    print(f\"Rolled a {dice_type}: {roll}\")\n",
        "    return roll\n",
        "\n",
        "\n",
        "def check_resolver(roll, action):\n",
        "\n",
        "    if action in outcomes:\n",
        "        if roll in outcomes[action]:\n",
        "            print(\"Successful!\")\n",
        "        else:\n",
        "            print(\"Failure!\")\n",
        "    else:\n",
        "        print(f\"Action '{action}' not recognized.\")\n",
        "\n",
        "# Example of usage:\n",
        "dice_type = 'd6'  # Example: roll a d6\n",
        "roll = roll_dice(dice_type)  # Roll the dice\n",
        "action = 'liquidate'  # Example action\n",
        "check_resolver(roll, action)  # Check the result of the roll for the given action"
      ]
    },
    {
      "cell_type": "code",
      "execution_count": null,
      "id": "8b6f8abc-901b-49a5-bdc0-0a65ac93a77e",
      "metadata": {
        "id": "8b6f8abc-901b-49a5-bdc0-0a65ac93a77e"
      },
      "outputs": [],
      "source": []
    },
    {
      "cell_type": "markdown",
      "id": "e90654de-67e9-4d4e-a546-6a872c753007",
      "metadata": {
        "id": "e90654de-67e9-4d4e-a546-6a872c753007"
      },
      "source": [
        "# V. Running a Game"
      ]
    },
    {
      "cell_type": "code",
      "execution_count": null,
      "id": "20ba0ff0-1df7-4962-8155-9be2df26a967",
      "metadata": {
        "id": "20ba0ff0-1df7-4962-8155-9be2df26a967"
      },
      "outputs": [],
      "source": [
        "# this is where you should place all cells that contain code or markdown\n",
        "# having to do with starting a mock game\n",
        "\n",
        "# Generate at least 2 character sheets\n",
        "# Generate at least 1 quest\n",
        "# Roll at least 3 times testing differetnt die and conditions"
      ]
    },
    {
      "cell_type": "code",
      "execution_count": null,
      "id": "321a5053-e077-41cb-b9ce-f13a2337c596",
      "metadata": {
        "id": "321a5053-e077-41cb-b9ce-f13a2337c596",
        "colab": {
          "base_uri": "https://localhost:8080/"
        },
        "outputId": "4bd078ac-d987-49b5-a15f-06d4ab95ee50"
      },
      "outputs": [
        {
          "output_type": "stream",
          "name": "stdout",
          "text": [
            "Welcome to the game\n",
            " B U S I N E S S\n",
            " W I Z A R D S\n",
            "\n",
            "The title of your adventure: Hidden Warrior: Hidden Library\n",
            "\n",
            "\\\\\\\\\\\\\\\\\\\\\\\\\\\\        \n",
            "   Oren Flarehart the Bold\n",
            "/////////////////////////\n",
            "College: summoning\n",
            "Major: sea\n",
            "Role: the innovator\n",
            "\n",
            "\n",
            "\\\\\\\\\\\\\\\\\\\\\\\\\\\\        \n",
            "   Thorn Dawncrest the Wise\n",
            "/////////////////////////\n",
            "College: summoning\n",
            "Major: sky\n",
            "Role: the cutthroat\n",
            "\n",
            "The Enchanted Boardroom Unreliable Allies (betrayal or lack of support from coworkers) Defend the company from a magical sabotage attempt by corporate rivals..\n",
            "Rolled a d6: 4\n",
            "Successful!\n",
            "Rolled a d6: 3\n",
            "Failure!\n",
            "Rolled a d6: 6\n",
            "Successful!\n"
          ]
        }
      ],
      "source": [
        "themes = [\"Quest\", \"Saga\", \"Legend\", \"Chronicles\", \"Journey\", \"Warrior\", \"Mystery\", \"Odyssey\"]\n",
        "adjectives = [\"Fateful\", \"Epic\", \"Ancient\", \"Dark\", \"Lost\", \"Unfathomable\", \"Eternal\", \"Hidden\"]\n",
        "location = [\"Library\"]\n",
        "\n",
        "# Function to generate a random RPG title\n",
        "def generate_rpg_title():\n",
        "    theme = random.choice(themes)\n",
        "    adjective = random.choice(adjectives)\n",
        "    noun = random.choice(nouns)\n",
        "\n",
        "    # Combine the theme, adjective, and noun to form a title\n",
        "    title = f\"{adjective} {theme}: {adjective} {noun}\"\n",
        "\n",
        "    return title\n",
        "\n",
        "# Function to display the RPG title\n",
        "def display_title():\n",
        "    title = generate_rpg_title()\n",
        "    print(f\"Welcome to the game\")\n",
        "    print(f\" B U S I N E S S\")\n",
        "    print(f\" W I Z A R D S\")\n",
        "    print(f\"\\nThe title of your adventure: {title}\")\n",
        "\n",
        "# Generate and display the RPG title\n",
        "display_title()\n",
        "\n",
        "import random\n",
        "\n",
        "first_names = [\"Zara\", \"Lucian\", \"Thorn\", \"Mira\", \"Oren\"]\n",
        "last_names = [\"Goldspire\", \"Silverwind\", \"Flarehart\", \"Dawncrest\", \"Ironveil\"]\n",
        "\n",
        "major = [\n",
        "    \"earth\",\n",
        "    \"forge\",\n",
        "    \"night\",\n",
        "    \"sea\",\n",
        "    \"sky\"\n",
        "]\n",
        "\n",
        "college = [\n",
        "    \"conjuration\",\n",
        "    \"enchantment\",\n",
        "    \"evocation\",\n",
        "    \"illumination\",\n",
        "    \"summoning\"\n",
        "]\n",
        "\n",
        "role = [\n",
        "    \"the innovator\",\n",
        "    \"the dynamo\",\n",
        "    \"the cutthroat\",\n",
        "    \"the manager\"\n",
        "]\n",
        "\n",
        "title = [\n",
        "    \"the Brave\",\n",
        "    \"the Fearless\",\n",
        "    \"the Mighty\",\n",
        "    \"the Wise\",\n",
        "    \"the Bold\"\n",
        "]\n",
        "\n",
        "dice_set = {\n",
        "    'd4': 4,\n",
        "    'd6': 6,\n",
        "    'd8': 8,\n",
        "    'd10': 10\n",
        "}\n",
        "\n",
        "def generate_wizard_name():\n",
        "    first = random.choice(first_names)\n",
        "    last = random.choice(last_names)\n",
        "    wizard_name = first + \" \" + last\n",
        "    return wizard_name\n",
        "\n",
        "def college_generator():\n",
        "    return random.choice(college)\n",
        "\n",
        "def major_generator():\n",
        "    return random.choice(major)\n",
        "\n",
        "def title_generator():\n",
        "    \"\"\"Randomly selects a role\"\"\"\n",
        "    return random.choice(title)\n",
        "\n",
        "def role_generator():\n",
        "    \"\"\"Randomly selects a role\"\"\"\n",
        "    return random.choice(role)\n",
        "\n",
        "def generate_character_sheet():\n",
        "    name = generate_wizard_name()\n",
        "    colleges = college_generator()\n",
        "    majors = major_generator()\n",
        "    roles = role_generator()\n",
        "    titles = title_generator()\n",
        "\n",
        "    # Create the character sheet string\n",
        "    character_sheet = f'''\n",
        "\\\\\\\\\\\\\\\\\\\\\\\\\\\\\\\\\\\\\\\\\\\\\\\\\\\\\\\\\\\n",
        "\n",
        "   {name} {titles}\n",
        "/////////////////////////\n",
        "College: {colleges}\n",
        "Major: {majors}\n",
        "Role: {roles}\n",
        "'''\n",
        "\n",
        "    print(character_sheet)\n",
        "\n",
        "# To generate a character sheet\n",
        "generate_character_sheet()\n",
        "\n",
        "import random\n",
        "\n",
        "first_names = [\"Zara\", \"Lucian\", \"Thorn\", \"Mira\"]\n",
        "last_names = [\"Silverwind\", \"Flarehart\", \"Dawncrest\", \"Ironveil\"]\n",
        "\n",
        "major = [\n",
        "    \"earth\",\n",
        "    \"forge\",\n",
        "    \"night\",\n",
        "    \"sea\",\n",
        "    \"sky\"\n",
        "]\n",
        "\n",
        "college = [\n",
        "    \"conjuration\",\n",
        "    \"enchantment\",\n",
        "    \"evocation\",\n",
        "    \"illumination\",\n",
        "    \"summoning\"\n",
        "]\n",
        "\n",
        "role = [\n",
        "    \"the innovator\",\n",
        "    \"the dynamo\",\n",
        "    \"the cutthroat\",\n",
        "    \"the manager\"\n",
        "]\n",
        "\n",
        "title = [\n",
        "    \"the Brave\",\n",
        "    \"the Fearless\",\n",
        "    \"the Mighty\",\n",
        "    \"the Wise\",\n",
        "    \"the Bold\"\n",
        "]\n",
        "\n",
        "dice_set = {\n",
        "    'd4': 4,\n",
        "    'd6': 6,\n",
        "    'd8': 8,\n",
        "    'd10': 10\n",
        "}\n",
        "\n",
        "def generate_wizard_name():\n",
        "    first = random.choice(first_names)\n",
        "    last = random.choice(last_names)\n",
        "    wizard_name = first + \" \" + last\n",
        "    return wizard_name\n",
        "\n",
        "def college_generator():\n",
        "    return random.choice(college)\n",
        "\n",
        "def major_generator():\n",
        "    return random.choice(major)\n",
        "\n",
        "def title_generator():\n",
        "    \"\"\"Randomly selects a role\"\"\"\n",
        "    return random.choice(title)\n",
        "\n",
        "def role_generator():\n",
        "    \"\"\"Randomly selects a role\"\"\"\n",
        "    return random.choice(role)\n",
        "\n",
        "def generate_character_sheet():\n",
        "    name = generate_wizard_name()\n",
        "    colleges = college_generator()\n",
        "    majors = major_generator()\n",
        "    roles = role_generator()\n",
        "    titles = title_generator()\n",
        "\n",
        "    # Create the character sheet string\n",
        "    character_sheet = f'''\n",
        "\\\\\\\\\\\\\\\\\\\\\\\\\\\\\\\\\\\\\\\\\\\\\\\\\\\\\\\\\\\n",
        "\n",
        "   {name} {titles}\n",
        "/////////////////////////\n",
        "College: {colleges}\n",
        "Major: {majors}\n",
        "Role: {roles}\n",
        "'''\n",
        "\n",
        "    print(character_sheet)\n",
        "\n",
        "# To generate a character sheet\n",
        "generate_character_sheet()\n",
        "\n",
        "\n",
        "import random\n",
        "\n",
        "objectives = [\n",
        "    \"Investigate a breach in the company's magical security system.\",\n",
        "    \"Retrieve an ancient artifact from the rival company's vault.\",\n",
        "    \"Convince a powerful board member to approve a risky magical project.\",\n",
        "    \"Defend the company from a magical sabotage attempt by corporate rivals.\"\n",
        "    ]\n",
        "\n",
        "locations = [\n",
        "    \"Arcane Headquarters\",\n",
        "    \"The Enchanted Boardroom\",\n",
        "    \"The Spellforge Lab\",\n",
        "    \"The Magical Library of Lore\"\n",
        "    ]\n",
        "\n",
        "obstacles = [\n",
        "    \"Magical Creatures (summoned beasts, enchanted guardians)\",\n",
        "    \"Hostile Spellcasters (enemy wizards using aggressive magic)\",\n",
        "    \"Time Constraints (urgent deadlines and time-sensitive tasks)\",\n",
        "    \"Unreliable Allies (betrayal or lack of support from coworkers)\"\n",
        "    ]\n",
        "\n",
        "def generate_quest():\n",
        "    location = random.choice(locations)\n",
        "    obstacle = random.choice(obstacles)\n",
        "    objective = random.choice(objectives)\n",
        "\n",
        "    # Combine the elements into a prompt\n",
        "    quest_prompt = f\"{location} {obstacle} {objective}.\"\n",
        "    return quest_prompt\n",
        "\n",
        "# Generate and display a quest prompt\n",
        "quest = generate_quest()\n",
        "print(quest)\n",
        "\n",
        "\n",
        "import random\n",
        "\n",
        "dice_set = {\n",
        "    'd4': 4,\n",
        "    'd6': 6,\n",
        "    'd8': 8,\n",
        "    'd10': 10\n",
        "}\n",
        "\n",
        "outcomes = {\n",
        "    'department': [1],         # doing their jobs\n",
        "    'ideate': [2, 3],          # crabby\n",
        "    'perpetrate': [3, 4, 5],   # overworked\n",
        "    'liquidate': [4, 5, 6, 7], # existential\n",
        "    'delegate': [5, 6, 7, 8, 9]  # just done\n",
        "}\n",
        "\n",
        "# Dice roll function\n",
        "def roll_dice(dice_type):\n",
        "    roll = random.randint(1, dice_set[dice_type])\n",
        "    print(f\"Rolled a {dice_type}: {roll}\")\n",
        "    return roll\n",
        "\n",
        "\n",
        "def check_resolver(roll, action):\n",
        "\n",
        "    if action in outcomes:\n",
        "        if roll in outcomes[action]:\n",
        "            print(\"Successful!\")\n",
        "        else:\n",
        "            print(\"Failure!\")\n",
        "    else:\n",
        "        print(f\"Action '{action}' not recognized.\")\n",
        "\n",
        "# Example of usage:\n",
        "dice_type = 'd6'  # Example: roll a d6\n",
        "roll = roll_dice(dice_type)  # Roll the dice\n",
        "action = 'liquidate'  # Example action\n",
        "check_resolver(roll, action)  # Check the result of the roll for the given action\n",
        "\n",
        "import random\n",
        "\n",
        "dice_set = {\n",
        "    'd4': 4,\n",
        "    'd6': 6,\n",
        "    'd8': 8,\n",
        "    'd10': 10\n",
        "}\n",
        "\n",
        "outcomes = {\n",
        "    'department': [1],         # doing their jobs\n",
        "    'ideate': [2, 3],          # crabby\n",
        "    'perpetrate': [3, 4, 5],   # overworked\n",
        "    'liquidate': [4, 5, 6, 7], # existential\n",
        "    'delegate': [5, 6, 7, 8, 9]  # just done\n",
        "}\n",
        "\n",
        "# Dice roll function\n",
        "def roll_dice(dice_type):\n",
        "    roll = random.randint(1, dice_set[dice_type])\n",
        "    print(f\"Rolled a {dice_type}: {roll}\")\n",
        "    return roll\n",
        "\n",
        "\n",
        "def check_resolver(roll, action):\n",
        "\n",
        "    if action in outcomes:\n",
        "        if roll in outcomes[action]:\n",
        "            print(\"Successful!\")\n",
        "        else:\n",
        "            print(\"Failure!\")\n",
        "    else:\n",
        "        print(f\"Action '{action}' not recognized.\")\n",
        "\n",
        "# Example of usage:\n",
        "dice_type = 'd6'  # Example: roll a d6\n",
        "roll = roll_dice(dice_type)  # Roll the dice\n",
        "action = 'liquidate'  # Example action\n",
        "check_resolver(roll, action)  # Check the result of the roll for the given action\n",
        "\n",
        "import random\n",
        "\n",
        "dice_set = {\n",
        "    'd4': 4,\n",
        "    'd6': 6,\n",
        "    'd8': 8,\n",
        "    'd10': 10\n",
        "}\n",
        "\n",
        "outcomes = {\n",
        "    'department': [1],         # doing their jobs\n",
        "    'ideate': [2, 3],          # crabby\n",
        "    'perpetrate': [3, 4, 5],   # overworked\n",
        "    'liquidate': [4, 5, 6, 7], # existential\n",
        "    'delegate': [5, 6, 7, 8, 9]  # just done\n",
        "}\n",
        "\n",
        "# Dice roll function\n",
        "def roll_dice(dice_type):\n",
        "    roll = random.randint(1, dice_set[dice_type])\n",
        "    print(f\"Rolled a {dice_type}: {roll}\")\n",
        "    return roll\n",
        "\n",
        "\n",
        "def check_resolver(roll, action):\n",
        "\n",
        "    if action in outcomes:\n",
        "        if roll in outcomes[action]:\n",
        "            print(\"Successful!\")\n",
        "        else:\n",
        "            print(\"Failure!\")\n",
        "    else:\n",
        "        print(f\"Action '{action}' not recognized.\")\n",
        "\n",
        "# Example of usage:\n",
        "dice_type = 'd6'  # Example: roll a d6\n",
        "roll = roll_dice(dice_type)  # Roll the dice\n",
        "action = 'liquidate'  # Example action\n",
        "check_resolver(roll, action)  # Check the result of the roll for the given action"
      ]
    },
    {
      "cell_type": "markdown",
      "id": "0c74c90c-e726-4fd3-8322-50cbb1f71124",
      "metadata": {
        "id": "0c74c90c-e726-4fd3-8322-50cbb1f71124"
      },
      "source": [
        "## IV. Conclusions & Final Thoughts"
      ]
    },
    {
      "cell_type": "code",
      "execution_count": null,
      "id": "41f4bf2a-5451-4863-ad6f-ba69b5104f9d",
      "metadata": {
        "id": "41f4bf2a-5451-4863-ad6f-ba69b5104f9d"
      },
      "outputs": [],
      "source": [
        "# Obstacles or difficulties you had in working through the code\n",
        "# and how you overcame them (or why you did not)\n",
        "\n",
        "# What are some ways you could use the structures you create in this project\n",
        "# in tasks or projects you work on outside of this class? In teaching in general?\n",
        "\n",
        "# Discuss your use of generative AI in this project (or why you chose not to use it).\n",
        "# Did you find it helpful, not helpful? Why or why not?\n",
        "\n",
        "# Features you would like to add in the future if given more time or Python knowledge"
      ]
    },
    {
      "cell_type": "markdown",
      "source": [
        "As I was working on this RPG, I think some of my obstacles or difficulties was finding ways to call my function because I could write the code and it would come out as correct but wouldn't print an outcome I was looking for. Essentially, what helped me overcome these challenges was chatgpt and I would ask it \"how does calling a function look like\" and it really helped me.\n",
        "These structures in the RPG could be a fun project for including coding and student's reading at the same time especially when they are learning at how to locate themes in a story. You could use this project to teach students fun ways to locate themes in a book and can assist with their typing skills at the same time.\n",
        "Chatgpt assisted me a lot during this project; if it was with creating locations, adjectives, or wizard names. It also helped me find missing pieces to my code or help me start them if I was really stuck which I won't lie, I really was because there are so many ways to start up a code but sometimes, I'm just not sure which way is the right one.\n",
        "\n",
        "I did have time on my hands and I tried to create a fun title or at least an intro to the RPG but if I had a little bit more time and knowledge with using python, I would try to do something with the RPG Reggie had created because it was really cool but something else I would want to try is creating better sections in the coding to separate the output with its equally sections."
      ],
      "metadata": {
        "id": "5Ie6jDsYbfKJ"
      },
      "id": "5Ie6jDsYbfKJ"
    }
  ],
  "metadata": {
    "kernelspec": {
      "display_name": "Python 3 (ipykernel)",
      "language": "python",
      "name": "python3"
    },
    "language_info": {
      "codemirror_mode": {
        "name": "ipython",
        "version": 3
      },
      "file_extension": ".py",
      "mimetype": "text/x-python",
      "name": "python",
      "nbconvert_exporter": "python",
      "pygments_lexer": "ipython3",
      "version": "3.10.13"
    },
    "colab": {
      "provenance": [],
      "include_colab_link": true
    }
  },
  "nbformat": 4,
  "nbformat_minor": 5
}
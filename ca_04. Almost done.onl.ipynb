{
  "cells": [
    {
      "cell_type": "markdown",
      "metadata": {
        "id": "view-in-github",
        "colab_type": "text"
      },
      "source": [
        "<a href=\"https://colab.research.google.com/github/anabarbalho/qr105_lecture_notes/blob/main/ca_04.%20Almost%20done.onl.ipynb\" target=\"_parent\"><img src=\"https://colab.research.google.com/assets/colab-badge.svg\" alt=\"Open In Colab\"/></a>"
      ]
    },
    {
      "cell_type": "markdown",
      "id": "b34fb6b9-122d-4b73-aee5-5f550fb0f3ed",
      "metadata": {
        "id": "b34fb6b9-122d-4b73-aee5-5f550fb0f3ed"
      },
      "source": [
        "# Coding Activity 4\n",
        "\n",
        "For this activity you'll build some of the basic blocks you need to get started on Project 1."
      ]
    },
    {
      "cell_type": "markdown",
      "id": "6fabc737-a2d6-4e13-affe-0a8597638929",
      "metadata": {
        "jp-MarkdownHeadingCollapsed": true,
        "id": "6fabc737-a2d6-4e13-affe-0a8597638929"
      },
      "source": [
        "## How coding assignments work"
      ]
    },
    {
      "cell_type": "markdown",
      "id": "0af37cc4-f74b-45dc-81b3-1409bf26021f",
      "metadata": {
        "id": "0af37cc4-f74b-45dc-81b3-1409bf26021f"
      },
      "source": [
        "### How to complete the assignment\n",
        "For each question, add your code to the code block below each question.\n",
        "\n",
        "### Assignment submission\n",
        "You need to save this notebook to the GitHub repository created for your assignment. Then copy the repo link and submit it to the assignment in Moodle.\n",
        "\n",
        "### Assessment\n",
        "\n",
        "Coding activities are designed to get you practising in code while in class. They're generally graded for completion - code either runs or it doesn't.\n",
        "\n",
        "However, if you can't get something to work, honest attempts will recieve credit. So if you run into issues, add a markdown cell or add comments to your code so I can see what you tried and how you attempted to resolve the issue.\n",
        "\n",
        "### You must cite use of outside resources\n",
        "\n",
        "You must cite outside resources you used on any component of your assignment. For each problem or component you use an outside source, add a markdown cell and provide a description or direct link to the resource used. This includes working closely with fellow classmates, seeking the help of a tutor, or consulting generative AI resources. Note that work suspected to be directly copied from AI sources will receive zero credit, regardless of citation. You should never be copying and pasting code and calling it your own."
      ]
    },
    {
      "cell_type": "markdown",
      "id": "8c29332e-cc98-4f9b-85b0-9d2893e77b18",
      "metadata": {
        "id": "8c29332e-cc98-4f9b-85b0-9d2893e77b18"
      },
      "source": [
        "## 1. Create a dice roller\n",
        "\n",
        "Create a dice roller. You'll do this in two parts. In part (a) just write the code block that accomplishes this. In part (b) use your code in part (a) to write a function.\n",
        "\n",
        "Your dice roller should be able to roll any of the 4 dice types for Polymorph games (d4, d6, d8, d10)"
      ]
    },
    {
      "cell_type": "markdown",
      "id": "21d8a5a7-dd5b-4520-bdf1-659cee10798f",
      "metadata": {
        "id": "21d8a5a7-dd5b-4520-bdf1-659cee10798f"
      },
      "source": [
        "### a. Write a simple code block that rolls the different die.\n",
        "\n",
        "Start with one die type first to make sure you understand the basic structure. Then see how you can build on that to add more options.\n",
        "\n",
        "Hint: an easy way to define the different options is to use a dictionary."
      ]
    },
    {
      "cell_type": "code",
      "execution_count": null,
      "id": "8640758f-4e37-4207-9d6f-816e05040681",
      "metadata": {
        "colab": {
          "base_uri": "https://localhost:8080/"
        },
        "id": "8640758f-4e37-4207-9d6f-816e05040681",
        "outputId": "6780470d-3219-4e0b-a4a1-c08eb9e10b9b"
      },
      "outputs": [
        {
          "output_type": "execute_result",
          "data": {
            "text/plain": [
              "7"
            ]
          },
          "metadata": {},
          "execution_count": 1
        }
      ],
      "source": [
        "import random # imports the random library (only do this once in your notebook!)\n",
        "\n",
        "dice_set = {\n",
        "    'd4' : 4,\n",
        "    'd6' : 6,\n",
        "    'd8' : 8,\n",
        "    'd10' : 10\n",
        "}\n",
        "\n",
        "dice_type = 'd8'\n",
        "\n",
        "random.randint(1, dice_set[dice_type])\n",
        "\n",
        "\n"
      ]
    },
    {
      "cell_type": "markdown",
      "id": "05c67849-569b-4790-b8fc-27f710fed39a",
      "metadata": {
        "id": "05c67849-569b-4790-b8fc-27f710fed39a"
      },
      "source": [
        "### b. Turn your code block above into a function that will roll a particular die."
      ]
    },
    {
      "cell_type": "code",
      "execution_count": null,
      "id": "85efe1ae-c622-490d-b756-82c83844711b",
      "metadata": {
        "colab": {
          "base_uri": "https://localhost:8080/"
        },
        "id": "85efe1ae-c622-490d-b756-82c83844711b",
        "outputId": "9b4bf963-6152-4bb5-ce91-144ab7c5b4a3"
      },
      "outputs": [
        {
          "output_type": "stream",
          "name": "stdout",
          "text": [
            "you rolled a 9\n"
          ]
        }
      ],
      "source": [
        "def roll_dice(dice_type):\n",
        "  dice_set = {\n",
        "    'd4' : 4,\n",
        "    'd6' : 6,\n",
        "    'd8' : 8,\n",
        "    'd10' : 10\n",
        "}\n",
        "\n",
        "  roll = random.randint(1, dice_set[dice_type])\n",
        "\n",
        "  return roll\n",
        "\n",
        "print('you rolled a', roll_dice('d10') )"
      ]
    },
    {
      "cell_type": "markdown",
      "id": "3521e059-8194-4b2b-aa35-ce58eb8ad348",
      "metadata": {
        "id": "3521e059-8194-4b2b-aa35-ce58eb8ad348"
      },
      "source": [
        "## 2. Generate some options\n",
        "\n",
        "After you choose which RPG you'll be using for Project 1, you'll need to generate some options that you'll use later in the assignment. Use options from the book for the RPG. If lists are not provided in the book (or you want to use different ones) use chatGPT to generate some. Hint: when using chatGPT, ask it to give the result in the form of a Python list!\n",
        "\n",
        "Create your lists in the code cell below under the relevant heading. You're welcome to add more if you want. These are just to get you started for this assignment."
      ]
    },
    {
      "cell_type": "markdown",
      "source": [
        "d4 = the innovator\n",
        "d6 = the dynamo\n",
        "d8 = the cutthroat\n",
        "d10 = the manager"
      ],
      "metadata": {
        "id": "Uai-nxShLNqH"
      },
      "id": "Uai-nxShLNqH"
    },
    {
      "cell_type": "code",
      "execution_count": null,
      "id": "4215ac9a-2ab6-4a40-9f6f-0cbadea9fc03",
      "metadata": {
        "id": "4215ac9a-2ab6-4a40-9f6f-0cbadea9fc03"
      },
      "outputs": [],
      "source": [
        "## first names\n",
        "first_names = [\n",
        "    \"thorn\",\n",
        "    \"zara\",\n",
        "    \"lucian\",\n",
        "    \"mira\",\n",
        "    \"oren\"\n",
        "\n",
        "]\n",
        "\n",
        "\n",
        "\n",
        "\n",
        "\n",
        "\n",
        "## last names\n",
        "last_names = [\n",
        "    \"goldspire\",\n",
        "    \"silverwind\",\n",
        "    \"flarehart\",\n",
        "    \"dawncrest\",\n",
        "    \"ironveil\"\n",
        "\n",
        "]\n",
        "\n",
        "\n",
        "\n",
        "## adjectives\n",
        "\n",
        "\n",
        "## objectives\n",
        "objectives = [\n",
        "\"Investigate the anomalies in the building.\",\n",
        "\"Negotiate the merger terms between the two companies.\",\n",
        "\"Stop the sabotage from rogue employees.\",\n",
        "\"Secure the company’s magical-tech prototype.\"\n",
        "]\n",
        "\n",
        "\n",
        "\n",
        "\n",
        "## locations\n",
        "locations = [\n",
        "    \"The Arcane Tower\",\n",
        "    \"The Tech Lab\",\n",
        "    \"The Vault\"\n",
        "]\n",
        "\n",
        "\n",
        "## obstacles/conflicts\n",
        "\n",
        "\n",
        "## rewards\n",
        "rewards = [\n",
        "    \"Corporate Title: Gain prestige within the company, unlocking new benefits.\",\n",
        "    \"Magical Technology Upgrade: Receive a hybrid magic-tech item.\",\n",
        "    \"Arcane Knowledge: Unlock new spells or corporate secrets.\"\n",
        "]\n",
        "\n",
        "\n"
      ]
    },
    {
      "cell_type": "markdown",
      "id": "e9038748-ca91-4202-ad2d-88bcdecf0216",
      "metadata": {
        "id": "e9038748-ca91-4202-ad2d-88bcdecf0216"
      },
      "source": [
        "## 3. Generate a random character name\n",
        "\n",
        "Create a character name generator. You'll do this in two parts. In part (a) just write the code block that accomplishes this. In part (b) use your code in part (a) to write a function.\n",
        "\n",
        "### a. Write a simple code block that generates a random character name"
      ]
    },
    {
      "cell_type": "markdown",
      "source": [
        "For part 3 of this coding activity, I used chatgpt to help me create or assist on creating certain aspects of the code. I would prompt chatgpt with what list might work best in this situation."
      ],
      "metadata": {
        "id": "O7U2ZCEMrf05"
      },
      "id": "O7U2ZCEMrf05"
    },
    {
      "cell_type": "code",
      "execution_count": null,
      "id": "97481037-dc42-4f5f-b372-8f76db3d215b",
      "metadata": {
        "id": "97481037-dc42-4f5f-b372-8f76db3d215b",
        "colab": {
          "base_uri": "https://localhost:8080/"
        },
        "outputId": "17f173a3-4ccf-4a71-fa9c-69b10764cf37"
      },
      "outputs": [
        {
          "output_type": "stream",
          "name": "stdout",
          "text": [
            "LucianFlarehart\n"
          ]
        }
      ],
      "source": [
        "import random\n",
        "\n",
        "\n",
        "\n",
        "\n",
        "my_first_name = random.choice(first_names) + random.choice(last_names)\n",
        "\n",
        "print(my_first_name)\n",
        "\n",
        "\n",
        "\n",
        "\n"
      ]
    },
    {
      "cell_type": "markdown",
      "id": "e3fbc94d-f87a-4d5e-bd14-4ec33ab8db48",
      "metadata": {
        "id": "e3fbc94d-f87a-4d5e-bd14-4ec33ab8db48"
      },
      "source": [
        "### b. Turn your code block above into a function to generate a character name"
      ]
    },
    {
      "cell_type": "code",
      "execution_count": null,
      "id": "8bfb325c-9da4-4e7a-a46b-bfd8c33eed8c",
      "metadata": {
        "id": "8bfb325c-9da4-4e7a-a46b-bfd8c33eed8c",
        "colab": {
          "base_uri": "https://localhost:8080/"
        },
        "outputId": "1a8d45c1-75ad-4258-f62f-c8b87b3d11a9"
      },
      "outputs": [
        {
          "output_type": "stream",
          "name": "stdout",
          "text": [
            "Generated Character Name: Thorn Dawncrest\n"
          ]
        }
      ],
      "source": [
        "import random\n",
        "\n",
        "first_names = [ \"Zara\", \"Lucian\", \"Thorn\", \"Mira\", \"Oren\"]\n",
        "last_names = [\"Goldspire\", \"Silverwind\", \"Flarehart\", \"Dawncrest\", \"Ironveil\"]\n",
        "\n",
        "\n",
        "def generate_character_name():\n",
        "    first_name = random.choice(first_names)\n",
        "    last_name = random.choice(last_names)\n",
        "    return f\"{first_name} {last_name}\"\n",
        "\n",
        "character_name = generate_character_name()\n",
        "print(f\"Generated Character Name: {character_name}\")"
      ]
    },
    {
      "cell_type": "code",
      "execution_count": null,
      "id": "0dac7898-7941-4d20-baba-35d6ba0087c6",
      "metadata": {
        "id": "0dac7898-7941-4d20-baba-35d6ba0087c6",
        "colab": {
          "base_uri": "https://localhost:8080/"
        },
        "outputId": "3290a642-7b76-4015-8647-5a898e32f3a0"
      },
      "outputs": [
        {
          "output_type": "stream",
          "name": "stdout",
          "text": [
            "Generated Character Name: Zara Goldspire\n"
          ]
        }
      ],
      "source": [
        "import random\n",
        "\n",
        "first_names = [ \"Zara\", \"Lucian\", \"Thorn\", \"Mira\", \"Oren\"]\n",
        "last_names = [\"Goldspire\", \"Silverwind\", \"Flarehart\", \"Dawncrest\", \"Ironveil\"]\n",
        "\n",
        "\n",
        "def generate_character_name():\n",
        "    first_name = random.choice(first_names)\n",
        "    last_name = random.choice(last_names)\n",
        "    return f\"{first_name} {last_name}\"\n",
        "\n",
        "character_name = generate_character_name()\n",
        "print(f\"Generated Character Name: {character_name}\")"
      ]
    },
    {
      "cell_type": "code",
      "execution_count": null,
      "id": "379da34e-8368-4173-8008-97b09b19e087",
      "metadata": {
        "id": "379da34e-8368-4173-8008-97b09b19e087",
        "colab": {
          "base_uri": "https://localhost:8080/"
        },
        "outputId": "451ae120-b067-4eaf-90c7-0e80d050e359"
      },
      "outputs": [
        {
          "output_type": "stream",
          "name": "stdout",
          "text": [
            "Generated Character Name: Oren Flarehart\n"
          ]
        }
      ],
      "source": [
        "import random\n",
        "\n",
        "first_names = [ \"Zara\", \"Lucian\", \"Thorn\", \"Mira\", \"Oren\"]\n",
        "last_names = [\"Goldspire\", \"Silverwind\", \"Flarehart\", \"Dawncrest\", \"Ironveil\"]\n",
        "\n",
        "\n",
        "def generate_character_name():\n",
        "    first_name = random.choice(first_names)\n",
        "    last_name = random.choice(last_names)\n",
        "    return f\"{first_name} {last_name}\"\n",
        "\n",
        "character_name = generate_character_name()\n",
        "print(f\"Generated Character Name: {character_name}\")"
      ]
    },
    {
      "cell_type": "markdown",
      "id": "0147f661-22a3-4b1d-8610-4dd8c8cd6904",
      "metadata": {
        "id": "0147f661-22a3-4b1d-8610-4dd8c8cd6904"
      },
      "source": [
        "## 4. Create a basic quest generator\n",
        "\n",
        "Create a basic quest generator. Use some of the information in the lists above to randomly generate a templated statement.\n",
        "\n",
        "For example, a templated statement could look something like this:\n",
        "\n",
        "```\n",
        "Your mission is to {objective} in {location}, but it is {obstacle}.\n",
        "If successful, you will receive {reward}.\n",
        "```\n",
        "\n",
        "Where the word in the brackets is randomly selected from your predefined lists. Using `f` strings will be helpful here."
      ]
    },
    {
      "cell_type": "code",
      "execution_count": null,
      "id": "a570c468-b676-4332-a9d6-975bf5545357",
      "metadata": {
        "id": "a570c468-b676-4332-a9d6-975bf5545357",
        "colab": {
          "base_uri": "https://localhost:8080/",
          "height": 106
        },
        "outputId": "a03d0a5c-e456-42b3-f58d-2ea7144cd49c"
      },
      "outputs": [
        {
          "output_type": "error",
          "ename": "SyntaxError",
          "evalue": "invalid syntax (<ipython-input-23-eeea6303cc3f>, line 1)",
          "traceback": [
            "\u001b[0;36m  File \u001b[0;32m\"<ipython-input-23-eeea6303cc3f>\"\u001b[0;36m, line \u001b[0;32m1\u001b[0m\n\u001b[0;31m    Your mission is to {objectives} in {locations}, but it is {obstacles}.\u001b[0m\n\u001b[0m         ^\u001b[0m\n\u001b[0;31mSyntaxError\u001b[0m\u001b[0;31m:\u001b[0m invalid syntax\n"
          ]
        }
      ],
      "source": []
    }
  ],
  "metadata": {
    "kernelspec": {
      "display_name": "Python 3 (ipykernel)",
      "language": "python",
      "name": "python3"
    },
    "language_info": {
      "codemirror_mode": {
        "name": "ipython",
        "version": 3
      },
      "file_extension": ".py",
      "mimetype": "text/x-python",
      "name": "python",
      "nbconvert_exporter": "python",
      "pygments_lexer": "ipython3",
      "version": "3.10.13"
    },
    "colab": {
      "provenance": [],
      "include_colab_link": true
    }
  },
  "nbformat": 4,
  "nbformat_minor": 5
}